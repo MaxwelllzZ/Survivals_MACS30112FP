{
 "cells": [
  {
   "cell_type": "markdown",
   "metadata": {},
   "source": [
    "# Merge hotel reviews data and hotel revenue data"
   ]
  },
  {
   "cell_type": "markdown",
   "metadata": {},
   "source": [
    "This file is for producing final dataframe for estimation. We merge two datasets on hotelQuery (querylink)."
   ]
  },
  {
   "cell_type": "code",
   "execution_count": 1,
   "metadata": {},
   "outputs": [
    {
     "name": "stdout",
     "output_type": "stream",
     "text": [
      "Intel MKL WARNING: Support of Intel(R) Streaming SIMD Extensions 4.2 (Intel(R) SSE4.2) enabled only processors has been deprecated. Intel oneAPI Math Kernel Library 2025.0 will require Intel(R) Advanced Vector Extensions (Intel(R) AVX) instructions.\n",
      "Intel MKL WARNING: Support of Intel(R) Streaming SIMD Extensions 4.2 (Intel(R) SSE4.2) enabled only processors has been deprecated. Intel oneAPI Math Kernel Library 2025.0 will require Intel(R) Advanced Vector Extensions (Intel(R) AVX) instructions.\n"
     ]
    }
   ],
   "source": [
    "import pandas as pd\n",
    "import query_generation"
   ]
  },
  {
   "cell_type": "code",
   "execution_count": 2,
   "metadata": {},
   "outputs": [
    {
     "data": {
      "text/html": [
       "<div>\n",
       "<style scoped>\n",
       "    .dataframe tbody tr th:only-of-type {\n",
       "        vertical-align: middle;\n",
       "    }\n",
       "\n",
       "    .dataframe tbody tr th {\n",
       "        vertical-align: top;\n",
       "    }\n",
       "\n",
       "    .dataframe thead th {\n",
       "        text-align: right;\n",
       "    }\n",
       "</style>\n",
       "<table border=\"1\" class=\"dataframe\">\n",
       "  <thead>\n",
       "    <tr style=\"text-align: right;\">\n",
       "      <th></th>\n",
       "      <th>publishedAtDate</th>\n",
       "      <th>title</th>\n",
       "      <th>address</th>\n",
       "      <th>city</th>\n",
       "      <th>state</th>\n",
       "      <th>totalScore</th>\n",
       "      <th>additionalInfo</th>\n",
       "      <th>reviewsCount</th>\n",
       "      <th>reviewsDistribution</th>\n",
       "      <th>hotelStars</th>\n",
       "      <th>...</th>\n",
       "      <th>reviewContained</th>\n",
       "      <th>reviewLength</th>\n",
       "      <th>ratingContained</th>\n",
       "      <th>actualRating</th>\n",
       "      <th>ratingReviewCumSum</th>\n",
       "      <th>reviewCumSum</th>\n",
       "      <th>actual_stars</th>\n",
       "      <th>present_stars</th>\n",
       "      <th>rev_index</th>\n",
       "      <th>hotelQuery</th>\n",
       "    </tr>\n",
       "  </thead>\n",
       "  <tbody>\n",
       "    <tr>\n",
       "      <th>0</th>\n",
       "      <td>202311</td>\n",
       "      <td>Sheraton Dallas Hotel</td>\n",
       "      <td>400 Olive St, Dallas, TX 75201</td>\n",
       "      <td>Dallas</td>\n",
       "      <td>Texas</td>\n",
       "      <td>4.2</td>\n",
       "      <td>{'Amenities': [{'Free Wi-Fi': True}, {'Breakfa...</td>\n",
       "      <td>5918.0</td>\n",
       "      <td>{'oneStar': 308, 'twoStar': 242, 'threeStar': ...</td>\n",
       "      <td>4-star hotel</td>\n",
       "      <td>...</td>\n",
       "      <td>33.0</td>\n",
       "      <td>103.603175</td>\n",
       "      <td>63.0</td>\n",
       "      <td>4.204968</td>\n",
       "      <td>5841.0</td>\n",
       "      <td>5873.0</td>\n",
       "      <td>4.204417</td>\n",
       "      <td>4.2</td>\n",
       "      <td>0</td>\n",
       "      <td>SHERATON+DALLAS+HOTEL+DALLAS+400+OLIVE+ST</td>\n",
       "    </tr>\n",
       "    <tr>\n",
       "      <th>1</th>\n",
       "      <td>202310</td>\n",
       "      <td>Sheraton Dallas Hotel</td>\n",
       "      <td>400 Olive St, Dallas, TX 75201</td>\n",
       "      <td>Dallas</td>\n",
       "      <td>Texas</td>\n",
       "      <td>4.2</td>\n",
       "      <td>{'Amenities': [{'Free Wi-Fi': True}, {'Breakfa...</td>\n",
       "      <td>5918.0</td>\n",
       "      <td>{'oneStar': 308, 'twoStar': 242, 'threeStar': ...</td>\n",
       "      <td>4-star hotel</td>\n",
       "      <td>...</td>\n",
       "      <td>22.0</td>\n",
       "      <td>186.244444</td>\n",
       "      <td>45.0</td>\n",
       "      <td>4.204968</td>\n",
       "      <td>5778.0</td>\n",
       "      <td>5840.0</td>\n",
       "      <td>4.202665</td>\n",
       "      <td>4.2</td>\n",
       "      <td>0</td>\n",
       "      <td>SHERATON+DALLAS+HOTEL+DALLAS+400+OLIVE+ST</td>\n",
       "    </tr>\n",
       "    <tr>\n",
       "      <th>2</th>\n",
       "      <td>202309</td>\n",
       "      <td>Sheraton Dallas Hotel</td>\n",
       "      <td>400 Olive St, Dallas, TX 75201</td>\n",
       "      <td>Dallas</td>\n",
       "      <td>Texas</td>\n",
       "      <td>4.2</td>\n",
       "      <td>{'Amenities': [{'Free Wi-Fi': True}, {'Breakfa...</td>\n",
       "      <td>5918.0</td>\n",
       "      <td>{'oneStar': 308, 'twoStar': 242, 'threeStar': ...</td>\n",
       "      <td>4-star hotel</td>\n",
       "      <td>...</td>\n",
       "      <td>26.0</td>\n",
       "      <td>122.475410</td>\n",
       "      <td>61.0</td>\n",
       "      <td>4.204968</td>\n",
       "      <td>5733.0</td>\n",
       "      <td>5818.0</td>\n",
       "      <td>4.203209</td>\n",
       "      <td>4.2</td>\n",
       "      <td>0</td>\n",
       "      <td>SHERATON+DALLAS+HOTEL+DALLAS+400+OLIVE+ST</td>\n",
       "    </tr>\n",
       "    <tr>\n",
       "      <th>3</th>\n",
       "      <td>202308</td>\n",
       "      <td>Sheraton Dallas Hotel</td>\n",
       "      <td>400 Olive St, Dallas, TX 75201</td>\n",
       "      <td>Dallas</td>\n",
       "      <td>Texas</td>\n",
       "      <td>4.2</td>\n",
       "      <td>{'Amenities': [{'Free Wi-Fi': True}, {'Breakfa...</td>\n",
       "      <td>5918.0</td>\n",
       "      <td>{'oneStar': 308, 'twoStar': 242, 'threeStar': ...</td>\n",
       "      <td>4-star hotel</td>\n",
       "      <td>...</td>\n",
       "      <td>37.0</td>\n",
       "      <td>224.400000</td>\n",
       "      <td>60.0</td>\n",
       "      <td>4.204968</td>\n",
       "      <td>5672.0</td>\n",
       "      <td>5792.0</td>\n",
       "      <td>4.200282</td>\n",
       "      <td>4.2</td>\n",
       "      <td>0</td>\n",
       "      <td>SHERATON+DALLAS+HOTEL+DALLAS+400+OLIVE+ST</td>\n",
       "    </tr>\n",
       "    <tr>\n",
       "      <th>4</th>\n",
       "      <td>202307</td>\n",
       "      <td>Sheraton Dallas Hotel</td>\n",
       "      <td>400 Olive St, Dallas, TX 75201</td>\n",
       "      <td>Dallas</td>\n",
       "      <td>Texas</td>\n",
       "      <td>4.2</td>\n",
       "      <td>{'Amenities': [{'Free Wi-Fi': True}, {'Breakfa...</td>\n",
       "      <td>5918.0</td>\n",
       "      <td>{'oneStar': 308, 'twoStar': 242, 'threeStar': ...</td>\n",
       "      <td>4-star hotel</td>\n",
       "      <td>...</td>\n",
       "      <td>16.0</td>\n",
       "      <td>103.189189</td>\n",
       "      <td>37.0</td>\n",
       "      <td>4.204968</td>\n",
       "      <td>5612.0</td>\n",
       "      <td>5755.0</td>\n",
       "      <td>4.204918</td>\n",
       "      <td>4.2</td>\n",
       "      <td>0</td>\n",
       "      <td>SHERATON+DALLAS+HOTEL+DALLAS+400+OLIVE+ST</td>\n",
       "    </tr>\n",
       "  </tbody>\n",
       "</table>\n",
       "<p>5 rows × 22 columns</p>\n",
       "</div>"
      ],
      "text/plain": [
       "   publishedAtDate                  title                         address  \\\n",
       "0           202311  Sheraton Dallas Hotel  400 Olive St, Dallas, TX 75201   \n",
       "1           202310  Sheraton Dallas Hotel  400 Olive St, Dallas, TX 75201   \n",
       "2           202309  Sheraton Dallas Hotel  400 Olive St, Dallas, TX 75201   \n",
       "3           202308  Sheraton Dallas Hotel  400 Olive St, Dallas, TX 75201   \n",
       "4           202307  Sheraton Dallas Hotel  400 Olive St, Dallas, TX 75201   \n",
       "\n",
       "     city  state  totalScore  \\\n",
       "0  Dallas  Texas         4.2   \n",
       "1  Dallas  Texas         4.2   \n",
       "2  Dallas  Texas         4.2   \n",
       "3  Dallas  Texas         4.2   \n",
       "4  Dallas  Texas         4.2   \n",
       "\n",
       "                                      additionalInfo  reviewsCount  \\\n",
       "0  {'Amenities': [{'Free Wi-Fi': True}, {'Breakfa...        5918.0   \n",
       "1  {'Amenities': [{'Free Wi-Fi': True}, {'Breakfa...        5918.0   \n",
       "2  {'Amenities': [{'Free Wi-Fi': True}, {'Breakfa...        5918.0   \n",
       "3  {'Amenities': [{'Free Wi-Fi': True}, {'Breakfa...        5918.0   \n",
       "4  {'Amenities': [{'Free Wi-Fi': True}, {'Breakfa...        5918.0   \n",
       "\n",
       "                                 reviewsDistribution    hotelStars  ...  \\\n",
       "0  {'oneStar': 308, 'twoStar': 242, 'threeStar': ...  4-star hotel  ...   \n",
       "1  {'oneStar': 308, 'twoStar': 242, 'threeStar': ...  4-star hotel  ...   \n",
       "2  {'oneStar': 308, 'twoStar': 242, 'threeStar': ...  4-star hotel  ...   \n",
       "3  {'oneStar': 308, 'twoStar': 242, 'threeStar': ...  4-star hotel  ...   \n",
       "4  {'oneStar': 308, 'twoStar': 242, 'threeStar': ...  4-star hotel  ...   \n",
       "\n",
       "  reviewContained  reviewLength  ratingContained  actualRating  \\\n",
       "0            33.0    103.603175             63.0      4.204968   \n",
       "1            22.0    186.244444             45.0      4.204968   \n",
       "2            26.0    122.475410             61.0      4.204968   \n",
       "3            37.0    224.400000             60.0      4.204968   \n",
       "4            16.0    103.189189             37.0      4.204968   \n",
       "\n",
       "   ratingReviewCumSum  reviewCumSum  actual_stars  present_stars  rev_index  \\\n",
       "0              5841.0        5873.0      4.204417            4.2          0   \n",
       "1              5778.0        5840.0      4.202665            4.2          0   \n",
       "2              5733.0        5818.0      4.203209            4.2          0   \n",
       "3              5672.0        5792.0      4.200282            4.2          0   \n",
       "4              5612.0        5755.0      4.204918            4.2          0   \n",
       "\n",
       "                                  hotelQuery  \n",
       "0  SHERATON+DALLAS+HOTEL+DALLAS+400+OLIVE+ST  \n",
       "1  SHERATON+DALLAS+HOTEL+DALLAS+400+OLIVE+ST  \n",
       "2  SHERATON+DALLAS+HOTEL+DALLAS+400+OLIVE+ST  \n",
       "3  SHERATON+DALLAS+HOTEL+DALLAS+400+OLIVE+ST  \n",
       "4  SHERATON+DALLAS+HOTEL+DALLAS+400+OLIVE+ST  \n",
       "\n",
       "[5 rows x 22 columns]"
      ]
     },
     "execution_count": 2,
     "metadata": {},
     "output_type": "execute_result"
    }
   ],
   "source": [
    "combined_df_final = pd.read_csv(\"~/Desktop/combinedhotelreviews.csv\",index_col=0)\n",
    "combined_df_final.head()"
   ]
  },
  {
   "cell_type": "code",
   "execution_count": 3,
   "metadata": {},
   "outputs": [],
   "source": [
    "headers = [\n",
    "    \"Taxpayer_Number\", \"Taxpayer_Name\", \"Taxpayer_Address\", \"Taxpayer_City\",\n",
    "    \"Taxpayer_State\",\"Taxpayer_Zip\", \"Taxpayer_County\", \"Taxpayer_Phone\",\n",
    "    \"Location_Number\", \"Location_Name\", \"Location_Address\", \"Location_City\",\n",
    "    \"Location_State\", \"Location_Zip\", \"Location_County\",\"Location_Phone\",\n",
    "    \"Unit_Capacity\", \"Responsibility_Begin_Date_(YYYYMMDD)\",\n",
    "    \"Responsibility_End_Date_(YYYYMMDD)\", \"Obligation_End_Date_(YYYYMMDD)\",\n",
    "    \"Filer_Type\", \"Total_Room_Receipts\", \"Taxable_Receipts\", \"hotelid\"\n",
    "]\n",
    "\n",
    "hotel_receipt = pd.read_csv(\"/Users/joycepeiting/Desktop/final_project/Dallas_with_ID.csv\",\n",
    "                            names = headers, index_col=False)\n",
    "\n",
    "left_columns = ['Location_Number', 'Location_Name',\n",
    "               'Location_Address', 'Location_City', 'Location_State', 'Location_Zip',\n",
    "               'Location_County', 'Unit_Capacity', 'Obligation_End_Date_(YYYYMMDD)',\n",
    "               'Total_Room_Receipts', 'Taxable_Receipts',\"hotelid\"]\n",
    "hotel_receipt_need = hotel_receipt[left_columns]"
   ]
  },
  {
   "cell_type": "code",
   "execution_count": 4,
   "metadata": {},
   "outputs": [
    {
     "data": {
      "text/plain": [
       "0       202311\n",
       "1       202310\n",
       "2       202309\n",
       "3       202308\n",
       "4       202307\n",
       "         ...  \n",
       "4908    202307\n",
       "4909    202308\n",
       "4910    202309\n",
       "4911    202310\n",
       "4912    202311\n",
       "Name: publishedAtDate, Length: 4913, dtype: int64"
      ]
     },
     "execution_count": 4,
     "metadata": {},
     "output_type": "execute_result"
    }
   ],
   "source": [
    "combined_df_final[\"publishedAtDate\"]"
   ]
  },
  {
   "cell_type": "code",
   "execution_count": 5,
   "metadata": {},
   "outputs": [
    {
     "name": "stderr",
     "output_type": "stream",
     "text": [
      "/Users/joycepeiting/Desktop/final_project_code/query_generation.py:13: SettingWithCopyWarning: \n",
      "A value is trying to be set on a copy of a slice from a DataFrame.\n",
      "Try using .loc[row_indexer,col_indexer] = value instead\n",
      "\n",
      "See the caveats in the documentation: https://pandas.pydata.org/pandas-docs/stable/user_guide/indexing.html#returning-a-view-versus-a-copy\n",
      "  data[\"Location_Address\"] = data[\"Location_Address\"].str.strip()\n",
      "/Users/joycepeiting/Desktop/final_project_code/query_generation.py:14: SettingWithCopyWarning: \n",
      "A value is trying to be set on a copy of a slice from a DataFrame.\n",
      "Try using .loc[row_indexer,col_indexer] = value instead\n",
      "\n",
      "See the caveats in the documentation: https://pandas.pydata.org/pandas-docs/stable/user_guide/indexing.html#returning-a-view-versus-a-copy\n",
      "  data[\"Location_Name\"] = data[\"Location_Name\"].str.strip()\n",
      "/Users/joycepeiting/Desktop/final_project_code/query_generation.py:15: SettingWithCopyWarning: \n",
      "A value is trying to be set on a copy of a slice from a DataFrame.\n",
      "Try using .loc[row_indexer,col_indexer] = value instead\n",
      "\n",
      "See the caveats in the documentation: https://pandas.pydata.org/pandas-docs/stable/user_guide/indexing.html#returning-a-view-versus-a-copy\n",
      "  data[\"Location_City\"] = data[\"Location_City\"].str.strip()\n",
      "/Users/joycepeiting/Desktop/final_project_code/query_generation.py:16: SettingWithCopyWarning: \n",
      "A value is trying to be set on a copy of a slice from a DataFrame.\n",
      "Try using .loc[row_indexer,col_indexer] = value instead\n",
      "\n",
      "See the caveats in the documentation: https://pandas.pydata.org/pandas-docs/stable/user_guide/indexing.html#returning-a-view-versus-a-copy\n",
      "  data[\"hotelQuery\"] = data[[\"Location_Name\", \"Location_City\",\n",
      "/Users/joycepeiting/Desktop/final_project_code/query_generation.py:18: SettingWithCopyWarning: \n",
      "A value is trying to be set on a copy of a slice from a DataFrame.\n",
      "Try using .loc[row_indexer,col_indexer] = value instead\n",
      "\n",
      "See the caveats in the documentation: https://pandas.pydata.org/pandas-docs/stable/user_guide/indexing.html#returning-a-view-versus-a-copy\n",
      "  data[\"hotelQuery\"] = data[\"hotelQuery\"].str.replace(\" \", \"+\")\n",
      "/var/folders/lf/wtythxz1087fs0gvgjpqtcr40000gn/T/ipykernel_32603/789737271.py:2: SettingWithCopyWarning: \n",
      "A value is trying to be set on a copy of a slice from a DataFrame.\n",
      "Try using .loc[row_indexer,col_indexer] = value instead\n",
      "\n",
      "See the caveats in the documentation: https://pandas.pydata.org/pandas-docs/stable/user_guide/indexing.html#returning-a-view-versus-a-copy\n",
      "  hotel_receipt_need[\"publishedAtDate\"] = hotel_receipt_need[\n",
      "/var/folders/lf/wtythxz1087fs0gvgjpqtcr40000gn/T/ipykernel_32603/789737271.py:4: SettingWithCopyWarning: \n",
      "A value is trying to be set on a copy of a slice from a DataFrame.\n",
      "Try using .loc[row_indexer,col_indexer] = value instead\n",
      "\n",
      "See the caveats in the documentation: https://pandas.pydata.org/pandas-docs/stable/user_guide/indexing.html#returning-a-view-versus-a-copy\n",
      "  hotel_receipt_need[\"publishedAtDate\"] = hotel_receipt_need[\n"
     ]
    }
   ],
   "source": [
    "hotel_receipt_need = query_generation.querylink(hotel_receipt_need)\n",
    "hotel_receipt_need[\"publishedAtDate\"] = hotel_receipt_need[\n",
    "    \"Obligation_End_Date_(YYYYMMDD)\"].apply(lambda i: str(i)[0:6])\n",
    "hotel_receipt_need[\"publishedAtDate\"] = hotel_receipt_need[\n",
    "    \"publishedAtDate\"].astype(int)"
   ]
  },
  {
   "cell_type": "code",
   "execution_count": 6,
   "metadata": {},
   "outputs": [
    {
     "data": {
      "text/plain": [
       "Index(['publishedAtDate', 'title', 'address', 'city', 'state', 'totalScore',\n",
       "       'additionalInfo', 'reviewsCount', 'reviewsDistribution', 'hotelStars',\n",
       "       'url', 'stars', 'reviewContained', 'reviewLength', 'ratingContained',\n",
       "       'actualRating', 'ratingReviewCumSum', 'reviewCumSum', 'actual_stars',\n",
       "       'present_stars', 'rev_index', 'hotelQuery'],\n",
       "      dtype='object')"
      ]
     },
     "execution_count": 6,
     "metadata": {},
     "output_type": "execute_result"
    }
   ],
   "source": [
    "combined_df_final.columns"
   ]
  },
  {
   "cell_type": "code",
   "execution_count": 7,
   "metadata": {},
   "outputs": [
    {
     "data": {
      "text/plain": [
       "46"
      ]
     },
     "execution_count": 7,
     "metadata": {},
     "output_type": "execute_result"
    }
   ],
   "source": [
    "merged_df_cleaned = pd.merge(combined_df_final, hotel_receipt_need, on=[\n",
    "    'hotelQuery','publishedAtDate'], how='left')\n",
    "len(merged_df_cleaned[merged_df_cleaned[\"hotelid\"].isna() == True].title.unique())"
   ]
  },
  {
   "cell_type": "code",
   "execution_count": 8,
   "metadata": {},
   "outputs": [],
   "source": [
    "final = merged_df_cleaned[merged_df_cleaned[\"Location_City\"].isna() == False]\n",
    "final = final[final[\"title\"].isna() == False]\n",
    "final.reset_index(drop=True)\n",
    "final.to_csv(\"~/Desktop/cleaned_final.csv\")"
   ]
  }
 ],
 "metadata": {
  "kernelspec": {
   "display_name": "macs30120",
   "language": "python",
   "name": "python3"
  },
  "language_info": {
   "codemirror_mode": {
    "name": "ipython",
    "version": 3
   },
   "file_extension": ".py",
   "mimetype": "text/x-python",
   "name": "python",
   "nbconvert_exporter": "python",
   "pygments_lexer": "ipython3",
   "version": "3.9.6"
  }
 },
 "nbformat": 4,
 "nbformat_minor": 2
}
